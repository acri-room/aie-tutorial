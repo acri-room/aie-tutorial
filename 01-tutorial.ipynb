{
 "cells": [
  {
   "cell_type": "markdown",
   "metadata": {},
   "source": [
    "# AI Engine入門チュートリアル\n",
    "\n",
    "本チュートリアルでは簡単なデザインを使ってAI Engine開発の流れを体験します。ACRiブログの記事を参照しながら進めてください。\n",
    "\n",
    "## 0. 準備\n",
    "ソースコードやツールの出力を格納するディレクトリを作成します。"
   ]
  },
  {
   "cell_type": "code",
   "execution_count": null,
   "metadata": {},
   "outputs": [],
   "source": [
    "!mkdir -p src data build"
   ]
  },
  {
   "cell_type": "markdown",
   "metadata": {
    "tags": []
   },
   "source": [
    "実行するターゲットをハードウェアエミュレーション（`hw_emu`）または実機（`hw`）から選択してください。"
   ]
  },
  {
   "cell_type": "code",
   "execution_count": null,
   "metadata": {},
   "outputs": [],
   "source": [
    "import ipywidgets as widgets\n",
    "w = widgets.RadioButtons(description='Target:', options=['hw_emu', 'hw'])\n",
    "display(w)"
   ]
  },
  {
   "cell_type": "markdown",
   "metadata": {},
   "source": [
    "選択した結果を後で参照できるようファイルに記録しておきます。"
   ]
  },
  {
   "cell_type": "code",
   "execution_count": null,
   "metadata": {},
   "outputs": [],
   "source": [
    "import textwrap\n",
    "with open('src/target.sh', 'w') as f:\n",
    "    f.write(textwrap.dedent('''\n",
    "    PLATFORM=xilinx_vck5000_gen4x8_qdma_2_202220_1\n",
    "    TARGET={target}\n",
    "    ''').format(target=w.value))"
   ]
  },
  {
   "cell_type": "markdown",
   "metadata": {},
   "source": [
    "## 1. 作成するアプリケーション\n",
    "このチュートリアルでは、int型の4要素のベクトルをふたつ足し合わせて結果を返すアプリを作成します。C++で次のように書けます。"
   ]
  },
  {
   "cell_type": "code",
   "execution_count": null,
   "metadata": {},
   "outputs": [],
   "source": [
    "%%writefile src/app_org.cpp\n",
    "#include <iostream>\n",
    "#include <vector>\n",
    "\n",
    "int main(int argc, char** argv)\n",
    "{\n",
    "    // 入力と出力のベクトル\n",
    "    std::vector<int> in0(4), in1(4), out(4);\n",
    "    \n",
    "    // 適当な値でベクトルを初期化\n",
    "    for (int i = 0; i < 4; i++) {\n",
    "        in0[i] = i + 2;\n",
    "        in1[i] = i * i;\n",
    "    }\n",
    "    \n",
    "    // ベクトル加算\n",
    "    for (int i = 0; i < 4; i++) {\n",
    "        out[i] = in0[i] + in1[i];\n",
    "    }\n",
    "    \n",
    "    // 結果を出力\n",
    "    for (int i = 0; i < 4; i++) {\n",
    "        std::cout << out[i] << std::endl;\n",
    "    }\n",
    "}"
   ]
  },
  {
   "cell_type": "markdown",
   "metadata": {},
   "source": [
    "コンパイルして実行してみましょう。"
   ]
  },
  {
   "cell_type": "code",
   "execution_count": null,
   "metadata": {},
   "outputs": [],
   "source": [
    "!g++ -o build/app_org src/app_org.cpp && ./build/app_org"
   ]
  },
  {
   "cell_type": "markdown",
   "metadata": {},
   "source": [
    "このように出力されていればOKです。\n",
    "```\n",
    "2\n",
    "4\n",
    "8\n",
    "14\n",
    "```"
   ]
  },
  {
   "cell_type": "markdown",
   "metadata": {},
   "source": [
    "## 2. 作成するデザイン\n",
    "このチュートリアルで作成するデザインの全体像は次のようになります。\n",
    "\n",
    "<div align=\"center\"><img src=\"imgs/system.png\" width=\"80%\"/></div>\n",
    "\n",
    "各部品とその役割は次の通りです。\n",
    "\n",
    "- ホストCPUで実行するプログラム（app）\n",
    "    - ホストメモリ、デバイスメモリにバッファを確保\n",
    "    - 入力データを準備\n",
    "    - ホストメモリとデバイスメモリ間のデータ転送\n",
    "    - PLカーネル起動\n",
    "- PLカーネル（mm2s、s2mm）\n",
    "    - mm2s : メモリからデータを読み出し、ストリームとしてAIEへデータを転送\n",
    "    - s2mm : AIEからストリームを受け取り、メモリへデータを書き出し\n",
    "- AIEカーネル（vadd）、AIEグラフ（mygraph）\n",
    "    - ストリームからベクトルを受け取り、加算、結果をストリームに送信"
   ]
  },
  {
   "cell_type": "markdown",
   "metadata": {},
   "source": [
    "## 3. AIEカーネルの作成\n",
    "AIEカーネルをC++で記述します。計算対象のふたつのベクトルを入力ストリームから読み込み、足し合わせて、出力ストリームに書き出します。"
   ]
  },
  {
   "cell_type": "code",
   "execution_count": null,
   "metadata": {},
   "outputs": [],
   "source": [
    "%%writefile src/vadd.cpp\n",
    "// 必要なヘッダーをインクルード\n",
    "#include <aie_api/aie.hpp>\n",
    "#include <aie_api/aie_adf.hpp>\n",
    "#include <aie_api/utils.hpp>\n",
    "\n",
    "// AIEカーネルの定義\n",
    "void vadd(\n",
    "    // 入力ストリーム\n",
    "    input_stream<int32>* in0,\n",
    "    input_stream<int32>* in1,\n",
    "    \n",
    "    // 出力ストリーム\n",
    "    output_stream<int32>* out\n",
    ") {\n",
    "    // 入力ストリームからのデータをint32の4要素ベクトルとしてベクトルレジスタへ格納します\n",
    "    aie::vector<int32, 4> a = readincr_v<4>(in0);\n",
    "    aie::vector<int32, 4> b = readincr_v<4>(in1);\n",
    "    \n",
    "    // ベクトルレジスタに読み込んだふたつのベクトルを足し合わせます\n",
    "    // 結果はベクトルレジスタに格納されます\n",
    "    aie::vector<int32, 4> c = aie::add(a, b);\n",
    "    \n",
    "    // ベクトルレジスタ上の計算結果を出力ストリームに書き込みます\n",
    "    writeincr(out, c);\n",
    "}"
   ]
  },
  {
   "cell_type": "markdown",
   "metadata": {},
   "source": [
    "AIEカーネルのヘッダーファイルを作成します。カーネルの関数宣言がAIEグラフの定義で参照されます。"
   ]
  },
  {
   "cell_type": "code",
   "execution_count": null,
   "metadata": {},
   "outputs": [],
   "source": [
    "%%writefile src/vadd.hpp\n",
    "#pragma once\n",
    "#include <adf.h>\n",
    "\n",
    "void vadd(\n",
    "    input_stream<int32>* in0,\n",
    "    input_stream<int32>* in1,\n",
    "    output_stream<int32>* out\n",
    ");"
   ]
  },
  {
   "cell_type": "markdown",
   "metadata": {
    "tags": []
   },
   "source": [
    "## 4. AIEグラフの作成\n",
    "AIEグラフをC++で記述します。AIEグラフでは、AIEカーネルをインスタンスし、AIEカーネル間の接続と、AIEグラフの外との接続を定義します。作成するグラフは次の図のようになります。\n",
    "\n",
    "<div align=\"center\"><img src=\"imgs/graph.png\" width=\"50%\"/></div>"
   ]
  },
  {
   "cell_type": "code",
   "execution_count": null,
   "metadata": {},
   "outputs": [],
   "source": [
    "%%writefile src/graph.hpp\n",
    "#pragma once\n",
    "// 必要なヘッダーをインクルード\n",
    "#include <adf.h>\n",
    "\n",
    "#include \"vadd.hpp\"\n",
    "\n",
    "// adf::graphを継承したクラスを作成し、この中でグラフを定義します\n",
    "class mygraph : public adf::graph\n",
    "{\n",
    "private:\n",
    "    // AIEカーネルインスタンス\n",
    "    adf::kernel vadd_kernel;\n",
    "\n",
    "public:\n",
    "    // PLとの入出力を定義\n",
    "    adf::input_plio in0, in1;\n",
    "    adf::output_plio out;\n",
    "\n",
    "    // コンストラクタ\n",
    "    mygraph()\n",
    "    {\n",
    "        // vaddカーネルを作成\n",
    "        vadd_kernel = adf::kernel::create(vadd);\n",
    "        // vaddカーネルのソースコードを指定\n",
    "        adf::source(vadd_kernel) = \"vadd.cpp\";\n",
    "        \n",
    "        // PLとの入出力を具体的に定義します\n",
    "        // 第一引数はポートの名前を設定します\n",
    "        // 第二引数はポートのビット幅を設定します\n",
    "        // 第三引数はシミュレーションで使用する入力または出力のファイル名を指定します\n",
    "        in0 = adf::input_plio::create(\"in0\", adf::plio_32_bits, \"input0.txt\");\n",
    "        in1 = adf::input_plio::create(\"in1\", adf::plio_32_bits, \"input1.txt\");\n",
    "        out = adf::output_plio::create(\"out\", adf::plio_32_bits, \"output.txt\");\n",
    "        \n",
    "        // カーネルとPLIOをストリームで接続します\n",
    "        adf::connect<adf::stream>(in0.out[0], vadd_kernel.in[0]);\n",
    "        adf::connect<adf::stream>(in1.out[0], vadd_kernel.in[1]);\n",
    "        adf::connect<adf::stream>(vadd_kernel.out[0], out.in[0]);\n",
    "        \n",
    "        // カーネルのランタイム比を設定します\n",
    "        adf::runtime<adf::ratio>(vadd_kernel) = 1.0;\n",
    "    };\n",
    "};"
   ]
  },
  {
   "cell_type": "markdown",
   "metadata": {},
   "source": [
    "AIEグラフのシミュレーションを行うテストベンチを作成します。"
   ]
  },
  {
   "cell_type": "code",
   "execution_count": null,
   "metadata": {},
   "outputs": [],
   "source": [
    "%%writefile src/graph.cpp\n",
    "#include \"graph.hpp\"\n",
    "\n",
    "mygraph graph;\n",
    "\n",
    "int main(int argc, char** argv)\n",
    "{\n",
    "    graph.init();\n",
    "    graph.run(1);\n",
    "    graph.end();\n",
    "}"
   ]
  },
  {
   "cell_type": "markdown",
   "metadata": {
    "tags": []
   },
   "source": [
    "## 5. AIEカーネル/グラフのコンパイルとシミュレーション\n",
    "\n",
    "AIEグラフをハードウェアをターゲットとしてコンパイルします。"
   ]
  },
  {
   "cell_type": "markdown",
   "metadata": {},
   "source": [
    "（Ubuntuでは/bin/shがdashになっているためエラーが出ます。ACRiルーム以外の環境で実行する場合は`sudo dpkg-reconfigure dash`でbashに変更してから実行してください。ACRiルームでは変更済みです）"
   ]
  },
  {
   "cell_type": "code",
   "execution_count": null,
   "metadata": {},
   "outputs": [],
   "source": [
    "%%writefile src/aie_compile.sh\n",
    "cd build\n",
    "\n",
    "aiecompiler \\\n",
    "    --target=hw \\\n",
    "    --include=../src \\\n",
    "    ../src/graph.cpp"
   ]
  },
  {
   "cell_type": "code",
   "execution_count": null,
   "metadata": {},
   "outputs": [],
   "source": [
    "!bash src/aie_compile.sh"
   ]
  },
  {
   "cell_type": "markdown",
   "metadata": {},
   "source": [
    "コンパイラの出力としてlibadf.aが生成されているか確認します。"
   ]
  },
  {
   "cell_type": "code",
   "execution_count": null,
   "metadata": {},
   "outputs": [],
   "source": [
    "!ls -l build/libadf.a"
   ]
  },
  {
   "cell_type": "markdown",
   "metadata": {},
   "source": [
    "シミュレーション用の入力データを用意します。"
   ]
  },
  {
   "cell_type": "code",
   "execution_count": null,
   "metadata": {},
   "outputs": [],
   "source": [
    "%%writefile data/input0.txt\n",
    "2\n",
    "3\n",
    "4\n",
    "5"
   ]
  },
  {
   "cell_type": "code",
   "execution_count": null,
   "metadata": {},
   "outputs": [],
   "source": [
    "%%writefile data/input1.txt\n",
    "0\n",
    "1\n",
    "4\n",
    "9"
   ]
  },
  {
   "cell_type": "markdown",
   "metadata": {},
   "source": [
    "シミュレーションを実行します。コンパイル時に生成されたWorkディレクトリの場所と、入力データを用意したディレクトリを引数で渡します。`--profile`オプションを指定することで、シミュレーション実行時にプロファイル情報を取得することができます。"
   ]
  },
  {
   "cell_type": "code",
   "execution_count": null,
   "metadata": {},
   "outputs": [],
   "source": [
    "%%writefile src/aie_sim.sh\n",
    "cd build\n",
    "\n",
    "aiesimulator --pkg-dir=Work --input-dir=../data --profile"
   ]
  },
  {
   "cell_type": "code",
   "execution_count": null,
   "metadata": {},
   "outputs": [],
   "source": [
    "!bash src/aie_sim.sh"
   ]
  },
  {
   "cell_type": "markdown",
   "metadata": {},
   "source": [
    "シミュレーションにより出力されるファイルには出力時刻と値が記録されています。ファイルの中身を確認しましょう。"
   ]
  },
  {
   "cell_type": "code",
   "execution_count": null,
   "metadata": {},
   "outputs": [],
   "source": [
    "!cat build/aiesimulator_output/output.txt"
   ]
  },
  {
   "cell_type": "markdown",
   "metadata": {},
   "source": [
    "元のC++コードと同じ値を出力していれば期待通り動作していると言えます。\n",
    "\n",
    "Vitis Analyzerを使ってコンパイルやプロファイルの結果を見てみましょう。"
   ]
  },
  {
   "cell_type": "code",
   "execution_count": null,
   "metadata": {},
   "outputs": [],
   "source": [
    "%%sh\n",
    "cd build\n",
    "vitis_analyzer aiesimulator_output/default.aierun_summary &> /dev/null"
   ]
  },
  {
   "cell_type": "markdown",
   "metadata": {
    "tags": []
   },
   "source": [
    "## 6. PLカーネルの作成\n",
    "\n",
    "メモリとAIEとの間でデータ移動を行うカーネルをC++で作成します。\n",
    "\n",
    "mm2sは、第三引数で指定された数だけポインタを介してメモリからデータを読み出し、AXIストリームに書き込みます。"
   ]
  },
  {
   "cell_type": "code",
   "execution_count": null,
   "metadata": {},
   "outputs": [],
   "source": [
    "%%writefile src/mm2s.hpp\n",
    "#pragma once\n",
    "#include <ap_int.h>\n",
    "#include <ap_axi_sdata.h>\n",
    "#include <hls_stream.h>\n",
    "\n",
    "extern \"C\" {\n",
    "\n",
    "void mm2s(\n",
    "    ap_int<32>* mem,\n",
    "    hls::stream<ap_axis<32, 0, 0, 0>>& str,\n",
    "    int size\n",
    ");\n",
    "\n",
    "}"
   ]
  },
  {
   "cell_type": "code",
   "execution_count": null,
   "metadata": {},
   "outputs": [],
   "source": [
    "%%writefile src/mm2s.cpp\n",
    "#include \"mm2s.hpp\"\n",
    "\n",
    "void mm2s(\n",
    "    ap_int<32>* mem,\n",
    "    hls::stream<ap_axis<32, 0, 0, 0>>& str,\n",
    "    int size\n",
    ") {\n",
    "    for (int i = 0; i < size; i++)\n",
    "    {\n",
    "        ap_axis<32, 0, 0, 0> x;\n",
    "        x.data = mem[i];\n",
    "        x.keep = -1;\n",
    "        str.write(x);\n",
    "    }\n",
    "}"
   ]
  },
  {
   "cell_type": "markdown",
   "metadata": {},
   "source": [
    "s2mmはmm2sの逆を行います。"
   ]
  },
  {
   "cell_type": "code",
   "execution_count": null,
   "metadata": {},
   "outputs": [],
   "source": [
    "%%writefile src/s2mm.hpp\n",
    "#pragma once\n",
    "#include <ap_int.h>\n",
    "#include <ap_axi_sdata.h>\n",
    "#include <hls_stream.h>\n",
    "\n",
    "extern \"C\" {\n",
    "\n",
    "void s2mm(\n",
    "    ap_int<32>* mem,\n",
    "    hls::stream<ap_axis<32, 0, 0, 0>>& str,\n",
    "    int size\n",
    ");\n",
    "\n",
    "}"
   ]
  },
  {
   "cell_type": "code",
   "execution_count": null,
   "metadata": {},
   "outputs": [],
   "source": [
    "%%writefile src/s2mm.cpp\n",
    "#include \"s2mm.hpp\"\n",
    "\n",
    "void s2mm(\n",
    "    ap_int<32>* mem,\n",
    "    hls::stream<ap_axis<32, 0, 0, 0>>& str,\n",
    "    int size\n",
    ") {\n",
    "    for (int i = 0; i < size; i++)\n",
    "    {\n",
    "        auto x = str.read();\n",
    "        mem[i] = x.data;\n",
    "    }\n",
    "}"
   ]
  },
  {
   "cell_type": "markdown",
   "metadata": {},
   "source": [
    "ここではこれらのPLカーネルの検証は省略します。\n",
    "\n",
    "これらのコードをVitisを使ってXilinx Objectにコンパイルします。このときC++コードが高位合成によりハードウェアに変換されます。"
   ]
  },
  {
   "cell_type": "code",
   "execution_count": null,
   "metadata": {},
   "outputs": [],
   "source": [
    "%%writefile src/build_xo.sh\n",
    "cd build\n",
    "\n",
    "source ../src/target.sh\n",
    "\n",
    "for kernel in mm2s s2mm ; do\n",
    "    v++ \\\n",
    "        --compile -g \\\n",
    "        --target $TARGET \\\n",
    "        --platform $PLATFORM \\\n",
    "        --kernel $kernel \\\n",
    "        -I../src \\\n",
    "        -o $kernel.xo \\\n",
    "        ../src/$kernel.cpp\n",
    "done"
   ]
  },
  {
   "cell_type": "code",
   "execution_count": null,
   "metadata": {},
   "outputs": [],
   "source": [
    "!bash src/build_xo.sh"
   ]
  },
  {
   "cell_type": "markdown",
   "metadata": {},
   "source": [
    "mm2s、s2mmそれぞれのxoファイルができていることを確認します。"
   ]
  },
  {
   "cell_type": "code",
   "execution_count": null,
   "metadata": {},
   "outputs": [],
   "source": [
    "!ls build/*.xo"
   ]
  },
  {
   "cell_type": "markdown",
   "metadata": {},
   "source": [
    "## 7. ハードウェアリンク\n",
    "\n",
    "AIEグラフとPLカーネルができたら、デバイス側の部品が揃いますので、ひとつのシステムとしてリンクします。AIEグラフの記述と同様に、PL領域にPLカーネルをインスタンスし、各カーネルのストリームポート間の接続を指示します。今回のデザインでは次の図の構成となります。\n",
    "\n",
    "<div align=\"center\"><img src=\"imgs/vitis-link.png\" width=\"60%\"/></div>\n",
    "\n",
    "Vitisではこれを設定ファイルとして記述します。設定ファイルの`connectivity`セクションに、インスタンスするPLカーネル名とその数を`nk`オプションで、カーネル間のストリーム接続を`sc`オプションで記述します。\n",
    "\n",
    "mm2sは入力ベクトルのふたつ分インスタンスしていることに注目してください。AIEグラフの入出力は`ai_engine_0`にポートの名前を付けて接続します。"
   ]
  },
  {
   "cell_type": "code",
   "execution_count": null,
   "metadata": {},
   "outputs": [],
   "source": [
    "%%writefile src/system.cfg\n",
    "[connectivity]\n",
    "nk=mm2s:2\n",
    "nk=s2mm:1\n",
    "\n",
    "sc=mm2s_1.str:ai_engine_0.in0\n",
    "sc=mm2s_2.str:ai_engine_0.in1\n",
    "sc=ai_engine_0.out:s2mm_1.str\n",
    "\n",
    "[profile]\n",
    "data=all:all:all\n",
    "\n",
    "[vivado]\n",
    "prop=fileset.sim_1.xsim.elaborate.xelab.more_options={-override_timeprecision -timescale=1ns/1ps}"
   ]
  },
  {
   "cell_type": "markdown",
   "metadata": {},
   "source": [
    "Vitisのコマンドを使い、AIEグラフとPLカーネルをプラットフォームとリンクします。ターゲットがハードウェアエミュレーションの場合は15分ほど、実機の場合は50分ほどかかります。\n",
    "\n",
    "pre-builtディレクトリ以下にビルド済みのxclbinファイルを用意しています。時間がないときは[9. ホストプログラムの作成](#9.-ホストプログラムの作成)までジャンプしてください。"
   ]
  },
  {
   "cell_type": "code",
   "execution_count": null,
   "metadata": {},
   "outputs": [],
   "source": [
    "%%writefile src/link.sh\n",
    "cd build\n",
    "\n",
    "source ../src/target.sh\n",
    "\n",
    "time v++ \\\n",
    "    --link -g \\\n",
    "    --target $TARGET \\\n",
    "    --platform $PLATFORM \\\n",
    "    --config ../src/system.cfg \\\n",
    "    mm2s.xo \\\n",
    "    s2mm.xo \\\n",
    "    libadf.a \\\n",
    "    -o link.xsa"
   ]
  },
  {
   "cell_type": "code",
   "execution_count": null,
   "metadata": {},
   "outputs": [],
   "source": [
    "!bash src/link.sh"
   ]
  },
  {
   "cell_type": "markdown",
   "metadata": {
    "tags": []
   },
   "source": [
    "## 8. パッケージ\n",
    "\n",
    "ハードウェアリンクしたxclbinファイルとAIEグラフをパッケージ化します。"
   ]
  },
  {
   "cell_type": "code",
   "execution_count": null,
   "metadata": {},
   "outputs": [],
   "source": [
    "%%writefile src/package.sh\n",
    "cd build\n",
    "\n",
    "source ../src/target.sh\n",
    "\n",
    "v++ \\\n",
    "    --package \\\n",
    "    --target $TARGET \\\n",
    "    --platform $PLATFORM \\\n",
    "    --package.boot_mode=ospi \\\n",
    "    link.xsa \\\n",
    "    libadf.a \\\n",
    "    -o vadd.xclbin"
   ]
  },
  {
   "cell_type": "code",
   "execution_count": null,
   "metadata": {},
   "outputs": [],
   "source": [
    "!bash src/package.sh"
   ]
  },
  {
   "cell_type": "markdown",
   "metadata": {
    "tags": []
   },
   "source": [
    "## 9. ホストプログラムの作成\n",
    "\n",
    "XRT Native APIを使ってホストプログラムをC++で記述します。"
   ]
  },
  {
   "cell_type": "code",
   "execution_count": null,
   "metadata": {},
   "outputs": [],
   "source": [
    "%%writefile src/app.cpp\n",
    "#include <iostream>\n",
    "\n",
    "#include <xrt/xrt_bo.h>\n",
    "#include <xrt/xrt_device.h>\n",
    "#include <xrt/xrt_kernel.h>\n",
    "\n",
    "int main(int argc, char** argv)\n",
    "{\n",
    "    const int device_index = 0;\n",
    "    const std::string xclbin_file = argv[1];\n",
    "\n",
    "    std::cout << \"(1) Open device\" << std::endl;\n",
    "    auto device = xrt::device(device_index);\n",
    "    \n",
    "    std::cout << \"(2) Load xclbin, \" << xclbin_file << std::endl;\n",
    "    auto uuid = device.load_xclbin(xclbin_file);\n",
    "\n",
    "    std::cout << \"(3) Create kernels\" << std::endl;\n",
    "    auto mm2s_1 = xrt::kernel(device, uuid, \"mm2s:{mm2s_1}\");\n",
    "    auto mm2s_2 = xrt::kernel(device, uuid, \"mm2s:{mm2s_2}\");\n",
    "    auto s2mm_1 = xrt::kernel(device, uuid, \"s2mm:{s2mm_1}\");\n",
    "\n",
    "    std::cout << \"(4) Create buffer objects\" << std::endl;\n",
    "    auto bo_1 = xrt::bo(device, sizeof(int) * 4, mm2s_1.group_id(0));\n",
    "    auto bo_2 = xrt::bo(device, sizeof(int) * 4, mm2s_2.group_id(0));\n",
    "    auto bo_3 = xrt::bo(device, sizeof(int) * 4, s2mm_1.group_id(0));\n",
    "\n",
    "    std::cout << \"(5) Map host-side buffer pointers to user space\" << std::endl;\n",
    "    auto buf_1 = bo_1.map<int*>();\n",
    "    auto buf_2 = bo_2.map<int*>();\n",
    "    auto buf_3 = bo_3.map<int*>();\n",
    "\n",
    "    for (int i = 0; i < 4; i++) {\n",
    "        buf_1[i] = i + 2;\n",
    "        buf_2[i] = i * i;\n",
    "    }\n",
    "\n",
    "    std::cout << \"(6) Sync bo to device\" << std::endl;\n",
    "    bo_1.sync(XCL_BO_SYNC_BO_TO_DEVICE);\n",
    "    bo_2.sync(XCL_BO_SYNC_BO_TO_DEVICE);\n",
    "\n",
    "    std::cout << \"(7) Run kernels\" << std::endl;\n",
    "    auto mm2s_1_run = mm2s_1(bo_1, nullptr, 4);\n",
    "    auto mm2s_2_run = mm2s_2(bo_2, nullptr, 4);\n",
    "    auto s2mm_1_run = s2mm_1(bo_3, nullptr, 4);\n",
    "\n",
    "    std::cout << \"(8) Wait for kernels to finish\" << std::endl;\n",
    "    mm2s_1_run.wait();\n",
    "    mm2s_2_run.wait();\n",
    "    s2mm_1_run.wait();\n",
    "\n",
    "    std::cout << \"(9) Sync bo from device\" << std::endl;\n",
    "    bo_3.sync(XCL_BO_SYNC_BO_FROM_DEVICE);\n",
    "    \n",
    "    std::cout << \"(10) Output result\" << std::endl;\n",
    "    for (int i = 0; i < 4; i++) {\n",
    "        std::cout << buf_3[i] << std::endl;\n",
    "    }\n",
    "}"
   ]
  },
  {
   "cell_type": "markdown",
   "metadata": {},
   "source": [
    "ホストプログラムをビルドします。"
   ]
  },
  {
   "cell_type": "code",
   "execution_count": null,
   "metadata": {},
   "outputs": [],
   "source": [
    "%%writefile src/build_host.sh\n",
    "cd build\n",
    "\n",
    "g++ \\\n",
    "    -o app \\\n",
    "    ../src/app.cpp \\\n",
    "    -I/opt/xilinx/xrt/include \\\n",
    "    -L/opt/xilinx/xrt/lib \\\n",
    "    -lxrt_coreutil \\\n",
    "    -pthread"
   ]
  },
  {
   "cell_type": "code",
   "execution_count": null,
   "metadata": {},
   "outputs": [],
   "source": [
    "!bash src/build_host.sh"
   ]
  },
  {
   "cell_type": "markdown",
   "metadata": {
    "tags": []
   },
   "source": [
    "## 10. ホストプログラムの実行\n",
    "\n",
    "ハードウェアエミュレーションがターゲットの場合はホストプログラムを実行する前に準備が必要です。\n",
    "\n",
    "xclbinファイルの生成は時間がかかるのでACRiルームでは事前にビルドしたファイルを提供しています。\n",
    "\n",
    "ホストプログラムにxclbinファイルを引数で渡して実行します。"
   ]
  },
  {
   "cell_type": "code",
   "execution_count": null,
   "metadata": {},
   "outputs": [],
   "source": [
    "%%writefile src/run.sh\n",
    "cd build\n",
    "\n",
    "# ターゲットがhw_emuのときエミュレーションコンフィギュレーションファイルを作成し、\n",
    "# XCL_EMULATION_MODE環境変数をhw_emuに設定する\n",
    "source ../src/target.sh\n",
    "if [[ $TARGET == \"hw_emu\" ]]; then\n",
    "    test ! -e emconfig.json && emconfigutil --platform $PLATFORM\n",
    "    export XCL_EMULATION_MODE=hw_emu\n",
    "fi\n",
    "\n",
    "XCLBIN=vadd.xclbin\n",
    "\n",
    "# 実行対象のxclbinが存在しなければpre-builtを使用する\n",
    "if [[ ! -e $XCLBIN ]] ; then\n",
    "    XCLBIN=../pre-built/vadd.$TARGET.xclbin\n",
    "fi\n",
    "\n",
    "# ホストプログラムを実行\n",
    "time ./app $XCLBIN"
   ]
  },
  {
   "cell_type": "code",
   "execution_count": null,
   "metadata": {},
   "outputs": [],
   "source": [
    "!bash src/run.sh"
   ]
  },
  {
   "cell_type": "markdown",
   "metadata": {},
   "source": [
    "期待通りに出力されれば成功です。本チュートリアルはここまでとなります。"
   ]
  }
 ],
 "metadata": {
  "kernelspec": {
   "display_name": "Python 3",
   "language": "python",
   "name": "python3"
  },
  "language_info": {
   "codemirror_mode": {
    "name": "ipython",
    "version": 3
   },
   "file_extension": ".py",
   "mimetype": "text/x-python",
   "name": "python",
   "nbconvert_exporter": "python",
   "pygments_lexer": "ipython3",
   "version": "3.8.3"
  }
 },
 "nbformat": 4,
 "nbformat_minor": 4
}
